{
 "cells": [
  {
   "cell_type": "code",
   "execution_count": null,
   "metadata": {},
   "outputs": [],
   "source": [
    "import os \n",
    "\n",
    "# Please specify the following path to WaterMAI's folder path \n",
    "path = \"YOUR_PATH_TO/WaterMAI\"\n",
    "os.chdir(path)"
   ]
  },
  {
   "cell_type": "markdown",
   "metadata": {},
   "source": [
    "## MSNet\n",
    "The following cells perform the evaluation of MSNet model on WaterMAI's test set by 3 different modalities **coir**, **condwi** and **cognirndwi**\n",
    "\n",
    "**(NOTE)** Please modify the text `YOUR_PATH_TO` in `--input_folder`, `--weights` and `val_txt` to the path in your computers"
   ]
  },
  {
   "cell_type": "code",
   "execution_count": null,
   "metadata": {},
   "outputs": [
    {
     "name": "stdout",
     "output_type": "stream",
     "text": [
      "INFO: Loading model msnet\n",
      "INFO: Using device cuda\n",
      "INFO: Model loaded!\n",
      "INFO: Creating dataset with 176 examples\n",
      "INFO: Scanning mask files to determine unique values\n",
      "100%|█████████████████████████████████████████| 176/176 [00:38<00:00,  4.54it/s]\n",
      "INFO: Unique mask values: [(0, 0, 0), (32, 64, 0), (240, 120, 240), (250, 50, 83), (250, 250, 55)]\n",
      "INFO: Evaluation Results:                                                       \n",
      "  Precision: 0.9053\n",
      "  Recall: 0.9165\n",
      "  Dice Score: 0.9477\n",
      "  Batch with Lowest Dice Score: 42\n"
     ]
    }
   ],
   "source": [
    "# coir\n",
    "! python3 evaluate.py --model 'msnet' \\\n",
    "    --input_folder 'YOUR_PATH_TO/WaterMAI_dataset' \\\n",
    "    --weights 'YOUR_PATH_TO/weights/MSNet_coir_checkpoints.pth' \\\n",
    "    --num_channels 4 --type 'coir' --batch_size 4 --n_classes 5 \\\n",
    "    --val_txt 'YOUR_PATH_TO/WaterMAI_dataset/images/coir/val_coir.txt' "
   ]
  },
  {
   "cell_type": "code",
   "execution_count": null,
   "metadata": {},
   "outputs": [
    {
     "name": "stdout",
     "output_type": "stream",
     "text": [
      "INFO: Loading model msnet\n",
      "INFO: Using device cuda\n",
      "INFO: Model loaded!\n",
      "INFO: Creating dataset with 176 examples\n",
      "INFO: Scanning mask files to determine unique values\n",
      "100%|█████████████████████████████████████████| 176/176 [00:38<00:00,  4.56it/s]\n",
      "INFO: Unique mask values: [(0, 0, 0), (32, 64, 0), (240, 120, 240), (250, 50, 83), (250, 250, 55)]\n",
      "INFO: Evaluation Results:                                                       \n",
      "  Precision: 0.9677\n",
      "  Recall: 0.9721\n",
      "  Dice Score: 0.9837\n",
      "  Batch with Lowest Dice Score: 42\n"
     ]
    }
   ],
   "source": [
    "# condwi\n",
    "! python3 evaluate.py --model 'msnet' \\\n",
    "    --input_folder 'YOUR_PATH_TO/WaterMAI_dataset' \\\n",
    "    --weights 'YOUR_PATH_TO/weights/MSNet_condwi_checkpoints.pth' \\\n",
    "    --num_channels 4 --type 'condwi' --batch_size 4 --n_classes 5 \\\n",
    "    --val_txt 'YOUR_PATH_TO/WaterMAI_dataset/images/condwi/val_condwi.txt'"
   ]
  },
  {
   "cell_type": "code",
   "execution_count": null,
   "metadata": {},
   "outputs": [
    {
     "name": "stdout",
     "output_type": "stream",
     "text": [
      "INFO: Loading model msnet\n",
      "INFO: Using device cuda\n",
      "INFO: Model loaded!\n",
      "INFO: Creating dataset with 176 examples\n",
      "INFO: Scanning mask files to determine unique values\n",
      "100%|█████████████████████████████████████████| 176/176 [00:38<00:00,  4.58it/s]\n",
      "INFO: Unique mask values: [(0, 0, 0), (32, 64, 0), (240, 120, 240), (250, 50, 83), (250, 250, 55)]\n",
      "INFO: Evaluation Results:                                                       \n",
      "  Precision: 0.9819\n",
      "  Recall: 0.9881\n",
      "  Dice Score: 0.9907\n",
      "  Batch with Lowest Dice Score: 13\n"
     ]
    }
   ],
   "source": [
    "# cognirndwi\n",
    "! python3 evaluate.py --model 'msnet' \\\n",
    "    --input_folder 'YOUR_PATH_TO/WaterMAI_dataset' \\\n",
    "    --weights 'YOUR_PATH_TO/weights/MSNet_cognirndwi_checkpoints.pth' \\\n",
    "    --num_channels 6 --type 'cognirndwi' --batch_size 4 --n_classes 5 \\\n",
    "    --val_txt 'YOUR_PATH_TO/WaterMAI_dataset/images/cognirndwi/val_cognirndwi.txt'"
   ]
  },
  {
   "cell_type": "markdown",
   "metadata": {},
   "source": [
    "## RTFNet\n",
    "The following cells perform the evaluation of RTFNet model on WaterMAI's test set by 2 different modalities **coir** and **condwi**\n",
    "\n",
    "**(NOTE)** Please modify the text `YOUR_PATH_TO` in `--input_folder`, `--weights` and `val_txt` to the path in your computers"
   ]
  },
  {
   "cell_type": "code",
   "execution_count": null,
   "metadata": {},
   "outputs": [
    {
     "name": "stdout",
     "output_type": "stream",
     "text": [
      "Downloading: \"https://download.pytorch.org/models/resnet50-11ad3fa6.pth\" to /home/hoang/.cache/torch/hub/checkpoints/resnet50-11ad3fa6.pth\n",
      "100%|██████████████████████████████████████| 97.8M/97.8M [00:08<00:00, 11.7MB/s]\n",
      "INFO: Loading model rtfnet\n",
      "INFO: Using device cuda\n",
      "INFO: Model loaded!\n",
      "INFO: Creating dataset with 176 examples\n",
      "INFO: Scanning mask files to determine unique values\n",
      "100%|█████████████████████████████████████████| 176/176 [00:38<00:00,  4.58it/s]\n",
      "INFO: Unique mask values: [(0, 0, 0), (32, 64, 0), (240, 120, 240), (250, 50, 83), (250, 250, 55)]\n",
      "INFO: Evaluation Results:                                                       \n",
      "  Precision: 0.8591\n",
      "  Recall: 0.8159\n",
      "  Dice Score: 0.8766\n",
      "  Batch with Lowest Dice Score: 42\n"
     ]
    }
   ],
   "source": [
    "# coir\n",
    "! python3 evaluate.py --model 'rtfnet' \\\n",
    "    --input_folder 'YOUR_PATH_TO/WaterMAI_dataset' \\\n",
    "    --weights 'YOUR_PATH_TO/weights/RTFNet_coir_checkpoints.pth' \\\n",
    "    --num_channels 4 --type 'coir' --batch_size 4 --n_classes 5 \\\n",
    "    --val_txt 'YOUR_PATH_TO/WaterMAI_dataset/images/coir/val_coir.txt'"
   ]
  },
  {
   "cell_type": "code",
   "execution_count": null,
   "metadata": {},
   "outputs": [
    {
     "name": "stdout",
     "output_type": "stream",
     "text": [
      "INFO: Loading model rtfnet\n",
      "INFO: Using device cuda\n",
      "INFO: Model loaded!\n",
      "INFO: Creating dataset with 176 examples\n",
      "INFO: Scanning mask files to determine unique values\n",
      "100%|█████████████████████████████████████████| 176/176 [00:38<00:00,  4.59it/s]\n",
      "INFO: Unique mask values: [(0, 0, 0), (32, 64, 0), (240, 120, 240), (250, 50, 83), (250, 250, 55)]\n",
      "INFO: Evaluation Results:                                                       \n",
      "  Precision: 0.8880\n",
      "  Recall: 0.9145\n",
      "  Dice Score: 0.9093\n",
      "  Batch with Lowest Dice Score: 42\n"
     ]
    }
   ],
   "source": [
    "# condwi\n",
    "! python3 evaluate.py --model 'rtfnet' \\\n",
    "    --input_folder 'YOUR_PATH_TO/WaterMAI_dataset' \\\n",
    "    --weights 'YOUR_PATH_TO/weights/RTFNet_condwi_checkpoints.pth' \\\n",
    "    --num_channels 4 --type 'condwi' --batch_size 4 --n_classes 5 \\\n",
    "    --val_txt 'YOUR_PATH_TO/WaterMAI_dataset/images/condwi/val_condwi.txt'"
   ]
  },
  {
   "cell_type": "markdown",
   "metadata": {},
   "source": [
    "## Unet\n",
    "The following cells perform the evaluation of UNet model on WaterMAI's test set by 3 different modalities **coir**, **condwi** and **cognirndwi**\n",
    "\n",
    "**(NOTE)** Please modify the text `YOUR_PATH_TO` in `--input_folder`, `--weights` and `val_txt` to the path in your computers"
   ]
  },
  {
   "cell_type": "code",
   "execution_count": null,
   "metadata": {},
   "outputs": [
    {
     "name": "stdout",
     "output_type": "stream",
     "text": [
      "INFO: Loading model unet\n",
      "INFO: Using device cuda\n",
      "INFO: Model loaded!\n",
      "INFO: Creating dataset with 176 examples\n",
      "INFO: Scanning mask files to determine unique values\n",
      "100%|█████████████████████████████████████████| 176/176 [00:38<00:00,  4.59it/s]\n",
      "INFO: Unique mask values: [(0, 0, 0), (32, 64, 0), (240, 120, 240), (250, 50, 83), (250, 250, 55)]\n",
      "INFO: Evaluation Results:                                                       \n",
      "  Precision: 0.9612\n",
      "  Recall: 0.9626\n",
      "  Dice Score: 0.9772\n",
      "  Batch with Lowest Dice Score: 42\n"
     ]
    }
   ],
   "source": [
    "# co\n",
    "! python3 evaluate.py --model 'unet' \\\n",
    "    --input_folder 'YOUR_PATH_TO/WaterMAI_dataset' \\\n",
    "    --weights 'YOUR_PATH_TO/weights/UNet_co_checkpoints.pth' \\\n",
    "    --num_channels 3 --type 'co' --batch_size 4 --n_classes 5 \\\n",
    "    --val_txt 'YOUR_PATH_TO/WaterMAI_dataset/images/co/val_co.txt'"
   ]
  },
  {
   "cell_type": "code",
   "execution_count": null,
   "metadata": {},
   "outputs": [
    {
     "name": "stdout",
     "output_type": "stream",
     "text": [
      "INFO: Loading model unet\n",
      "INFO: Using device cuda\n",
      "INFO: Model loaded!\n",
      "INFO: Creating dataset with 176 examples\n",
      "INFO: Scanning mask files to determine unique values\n",
      "100%|█████████████████████████████████████████| 176/176 [00:39<00:00,  4.43it/s]\n",
      "INFO: Unique mask values: [(0, 0, 0), (32, 64, 0), (240, 120, 240), (250, 50, 83), (250, 250, 55)]\n",
      "INFO: Evaluation Results:                                                       \n",
      "  Precision: 0.9665\n",
      "  Recall: 0.9589\n",
      "  Dice Score: 0.9785\n",
      "  Batch with Lowest Dice Score: 42\n"
     ]
    }
   ],
   "source": [
    "# cognirndwi\n",
    "! python3 evaluate.py --model unet \\\n",
    "    --input_folder 'YOUR_PATH_TO/WaterMAI_dataset' \\\n",
    "    --weights 'YOUR_PATH_TO/weights/UNet_cognirndwi_checkpoints.pth' \\\n",
    "    --num_channels 6 --type 'cognirndwi' --batch_size 4 --n_classes 5 \\\n",
    "    --val_txt 'YOUR_PATH_TO/WaterMAI_dataset/images/cognirndwi/val_cognirndwi.txt'"
   ]
  },
  {
   "cell_type": "code",
   "execution_count": null,
   "metadata": {},
   "outputs": [
    {
     "name": "stdout",
     "output_type": "stream",
     "text": [
      "INFO: Loading model unet\n",
      "INFO: Using device cuda\n",
      "INFO: Model loaded!\n",
      "INFO: Creating dataset with 176 examples\n",
      "INFO: Scanning mask files to determine unique values\n",
      "100%|█████████████████████████████████████████| 176/176 [00:38<00:00,  4.59it/s]\n",
      "INFO: Unique mask values: [(0, 0, 0), (32, 64, 0), (240, 120, 240), (250, 50, 83), (250, 250, 55)]\n",
      "INFO: Evaluation Results:                                                       \n",
      "  Precision: 0.9480\n",
      "  Recall: 0.9552\n",
      "  Dice Score: 0.9721\n",
      "  Batch with Lowest Dice Score: 42\n"
     ]
    }
   ],
   "source": [
    "# coir\n",
    "! python3 evaluate.py --model 'unet' \\\n",
    "    --input_folder 'YOUR_PATH_TO/WaterMAI_dataset' \\\n",
    "    --weights 'YOUR_PATH_TO/weights/UNet_coir_checkpoints.pth' \\\n",
    "    --num_channels 4 --type 'coir' --batch_size 4 --n_classes 5 \\\n",
    "    --val_txt 'YOUR_PATH_TO/WaterMAI_dataset/images/coir/val_coir.txt'"
   ]
  },
  {
   "cell_type": "code",
   "execution_count": null,
   "metadata": {},
   "outputs": [
    {
     "name": "stdout",
     "output_type": "stream",
     "text": [
      "INFO: Loading model unet\n",
      "INFO: Using device cuda\n",
      "INFO: Model loaded!\n",
      "INFO: Creating dataset with 176 examples\n",
      "INFO: Scanning mask files to determine unique values\n",
      "100%|█████████████████████████████████████████| 176/176 [00:41<00:00,  4.23it/s]\n",
      "INFO: Unique mask values: [(0, 0, 0), (32, 64, 0), (240, 120, 240), (250, 50, 83), (250, 250, 55)]\n",
      "INFO: Evaluation Results:                                                       \n",
      "  Precision: 0.9681\n",
      "  Recall: 0.9706\n",
      "  Dice Score: 0.9820\n",
      "  Batch with Lowest Dice Score: 13\n"
     ]
    }
   ],
   "source": [
    "# condwi\n",
    "! python3 evaluate.py --model unet \\\n",
    "    --input_folder 'YOUR_PATH_TO/WaterMAI_dataset' \\\n",
    "    --weights 'YOUR_PATH_TO/weights/UNet_condwi_checkpoints.pth' \\\n",
    "    --num_channels 4 --type 'condwi' --batch_size 4 --n_classes 5 \\\n",
    "    --val_txt 'YOUR_PATH_TO/WaterMAI_dataset/images/condwi/val_condwi.txt'"
   ]
  },
  {
   "cell_type": "code",
   "execution_count": null,
   "metadata": {},
   "outputs": [
    {
     "name": "stdout",
     "output_type": "stream",
     "text": [
      "INFO: Loading model unet\n",
      "INFO: Using device cuda\n",
      "INFO: Model loaded!\n",
      "INFO: Creating dataset with 176 examples\n",
      "INFO: Scanning mask files to determine unique values\n",
      "100%|█████████████████████████████████████████| 176/176 [00:38<00:00,  4.55it/s]\n",
      "INFO: Unique mask values: [(0, 0, 0), (32, 64, 0), (240, 120, 240), (250, 50, 83), (250, 250, 55)]\n",
      "INFO: Evaluation Results:                                                       \n",
      "  Precision: 0.9033\n",
      "  Recall: 0.8234\n",
      "  Dice Score: 0.9352\n",
      "  Batch with Lowest Dice Score: 14\n"
     ]
    }
   ],
   "source": [
    "# gnirndwi\n",
    "! python3 evaluate.py --model unet \\\n",
    "    --input_folder 'YOUR_PATH_TO/WaterMAI_dataset' \\\n",
    "    --weights 'YOUR_PATH_TO/weights/UNet_gnirndwi_checkpoints.pth' \\\n",
    "    --num_channels 3 --type 'gnirndwi' --batch_size 4 --n_classes 5 \\\n",
    "    --val_txt 'YOUR_PATH_TO/WaterMAI_dataset/images/gnirndwi/val_gnirndwi.txt'"
   ]
  },
  {
   "cell_type": "code",
   "execution_count": null,
   "metadata": {},
   "outputs": [],
   "source": [
    "# rndwib\n",
    "! python3 evaluate.py --model unet \\\n",
    "    --input_folder 'YOUR_PATH_TO/WaterMAI_dataset' \\\n",
    "    --weights 'YOUR_PATH_TO/weights/UNet_rndwib_checkpoints.pth' \\\n",
    "    --num_channels 3 --type 'rndwib' --batch_size 4 --n_classes 5 \\\n",
    "    --val_txt 'YOUR_PATH_TO/WaterMAI_dataset/images/rndwib/val_rndwib.txt'"
   ]
  }
 ],
 "metadata": {
  "kernelspec": {
   "display_name": "bonn",
   "language": "python",
   "name": "python3"
  },
  "language_info": {
   "codemirror_mode": {
    "name": "ipython",
    "version": 3
   },
   "file_extension": ".py",
   "mimetype": "text/x-python",
   "name": "python",
   "nbconvert_exporter": "python",
   "pygments_lexer": "ipython3",
   "version": "3.9.19"
  }
 },
 "nbformat": 4,
 "nbformat_minor": 2
}
