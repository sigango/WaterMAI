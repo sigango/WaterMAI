{
 "cells": [
  {
   "cell_type": "code",
   "execution_count": null,
   "metadata": {},
   "outputs": [],
   "source": [
    "import os \n",
    "\n",
    "# Please specify the folder WaterMAI's path \n",
    "path = \"YOUR_PATH_TO/WaterMAI\"\n",
    "os.chdir(path)"
   ]
  },
  {
   "cell_type": "code",
   "execution_count": 4,
   "metadata": {},
   "outputs": [
    {
     "name": "stdout",
     "output_type": "stream",
     "text": [
      "Requirement already satisfied: matplotlib>=3.6.2 in /home/hoang/anaconda3/envs/bonn/lib/python3.9/site-packages (from -r requirements.txt (line 1)) (3.8.4)\n",
      "Requirement already satisfied: numpy>=1.23.5 in /home/hoang/anaconda3/envs/bonn/lib/python3.9/site-packages (from -r requirements.txt (line 2)) (1.26.4)\n",
      "Requirement already satisfied: Pillow>=9.3.0 in /home/hoang/anaconda3/envs/bonn/lib/python3.9/site-packages (from -r requirements.txt (line 3)) (10.2.0)\n",
      "Requirement already satisfied: tqdm>=4.64.1 in /home/hoang/anaconda3/envs/bonn/lib/python3.9/site-packages (from -r requirements.txt (line 4)) (4.65.0)\n",
      "Collecting wandb>=0.13.5 (from -r requirements.txt (line 5))\n",
      "  Downloading wandb-0.19.0-py3-none-manylinux_2_17_x86_64.manylinux2014_x86_64.whl.metadata (10 kB)\n",
      "Requirement already satisfied: opencv-python>=4.9.0 in /home/hoang/anaconda3/envs/bonn/lib/python3.9/site-packages (from -r requirements.txt (line 6)) (4.10.0.84)\n",
      "Requirement already satisfied: tifffile>=2023.4.12 in /home/hoang/anaconda3/envs/bonn/lib/python3.9/site-packages (from -r requirements.txt (line 7)) (2023.4.12)\n",
      "Requirement already satisfied: torch in /home/hoang/anaconda3/envs/bonn/lib/python3.9/site-packages (from -r requirements.txt (line 8)) (2.2.2)\n",
      "Requirement already satisfied: torchvision in /home/hoang/anaconda3/envs/bonn/lib/python3.9/site-packages (from -r requirements.txt (line 9)) (0.17.2)\n",
      "Requirement already satisfied: contourpy>=1.0.1 in /home/hoang/anaconda3/envs/bonn/lib/python3.9/site-packages (from matplotlib>=3.6.2->-r requirements.txt (line 1)) (1.2.0)\n",
      "Requirement already satisfied: cycler>=0.10 in /home/hoang/anaconda3/envs/bonn/lib/python3.9/site-packages (from matplotlib>=3.6.2->-r requirements.txt (line 1)) (0.11.0)\n",
      "Requirement already satisfied: fonttools>=4.22.0 in /home/hoang/anaconda3/envs/bonn/lib/python3.9/site-packages (from matplotlib>=3.6.2->-r requirements.txt (line 1)) (4.51.0)\n",
      "Requirement already satisfied: kiwisolver>=1.3.1 in /home/hoang/anaconda3/envs/bonn/lib/python3.9/site-packages (from matplotlib>=3.6.2->-r requirements.txt (line 1)) (1.4.4)\n",
      "Requirement already satisfied: packaging>=20.0 in /home/hoang/anaconda3/envs/bonn/lib/python3.9/site-packages (from matplotlib>=3.6.2->-r requirements.txt (line 1)) (23.2)\n",
      "Requirement already satisfied: pyparsing>=2.3.1 in /home/hoang/anaconda3/envs/bonn/lib/python3.9/site-packages (from matplotlib>=3.6.2->-r requirements.txt (line 1)) (3.0.9)\n",
      "Requirement already satisfied: python-dateutil>=2.7 in /home/hoang/anaconda3/envs/bonn/lib/python3.9/site-packages (from matplotlib>=3.6.2->-r requirements.txt (line 1)) (2.8.2)\n",
      "Requirement already satisfied: importlib-resources>=3.2.0 in /home/hoang/anaconda3/envs/bonn/lib/python3.9/site-packages (from matplotlib>=3.6.2->-r requirements.txt (line 1)) (6.1.1)\n",
      "Requirement already satisfied: click!=8.0.0,>=7.1 in /home/hoang/anaconda3/envs/bonn/lib/python3.9/site-packages (from wandb>=0.13.5->-r requirements.txt (line 5)) (8.1.7)\n",
      "Collecting docker-pycreds>=0.4.0 (from wandb>=0.13.5->-r requirements.txt (line 5))\n",
      "  Downloading docker_pycreds-0.4.0-py2.py3-none-any.whl.metadata (1.8 kB)\n",
      "Collecting eval-type-backport (from wandb>=0.13.5->-r requirements.txt (line 5))\n",
      "  Downloading eval_type_backport-0.2.0-py3-none-any.whl.metadata (2.2 kB)\n",
      "Requirement already satisfied: gitpython!=3.1.29,>=1.0.0 in /home/hoang/anaconda3/envs/bonn/lib/python3.9/site-packages (from wandb>=0.13.5->-r requirements.txt (line 5)) (3.1.37)\n",
      "Requirement already satisfied: platformdirs in /home/hoang/anaconda3/envs/bonn/lib/python3.9/site-packages (from wandb>=0.13.5->-r requirements.txt (line 5)) (3.10.0)\n",
      "Requirement already satisfied: protobuf!=4.21.0,!=5.28.0,<6,>=3.15.0 in /home/hoang/anaconda3/envs/bonn/lib/python3.9/site-packages (from wandb>=0.13.5->-r requirements.txt (line 5)) (3.20.3)\n",
      "Requirement already satisfied: psutil>=5.0.0 in /home/hoang/anaconda3/envs/bonn/lib/python3.9/site-packages (from wandb>=0.13.5->-r requirements.txt (line 5)) (5.9.0)\n",
      "Requirement already satisfied: pydantic<3,>=2.6 in /home/hoang/anaconda3/envs/bonn/lib/python3.9/site-packages (from wandb>=0.13.5->-r requirements.txt (line 5)) (2.7.3)\n",
      "Requirement already satisfied: pyyaml in /home/hoang/anaconda3/envs/bonn/lib/python3.9/site-packages (from wandb>=0.13.5->-r requirements.txt (line 5)) (6.0.1)\n",
      "Requirement already satisfied: requests<3,>=2.0.0 in /home/hoang/anaconda3/envs/bonn/lib/python3.9/site-packages (from wandb>=0.13.5->-r requirements.txt (line 5)) (2.31.0)\n",
      "Collecting sentry-sdk>=2.0.0 (from wandb>=0.13.5->-r requirements.txt (line 5))\n",
      "  Downloading sentry_sdk-2.19.1-py2.py3-none-any.whl.metadata (9.9 kB)\n",
      "Collecting setproctitle (from wandb>=0.13.5->-r requirements.txt (line 5))\n",
      "  Downloading setproctitle-1.3.4-cp39-cp39-manylinux_2_5_x86_64.manylinux1_x86_64.manylinux_2_17_x86_64.manylinux2014_x86_64.whl.metadata (10 kB)\n",
      "Requirement already satisfied: setuptools in /home/hoang/anaconda3/envs/bonn/lib/python3.9/site-packages (from wandb>=0.13.5->-r requirements.txt (line 5)) (68.2.2)\n",
      "Requirement already satisfied: typing-extensions<5,>=4.4 in /home/hoang/anaconda3/envs/bonn/lib/python3.9/site-packages (from wandb>=0.13.5->-r requirements.txt (line 5)) (4.9.0)\n",
      "Requirement already satisfied: filelock in /home/hoang/anaconda3/envs/bonn/lib/python3.9/site-packages (from torch->-r requirements.txt (line 8)) (3.13.1)\n",
      "Requirement already satisfied: sympy in /home/hoang/anaconda3/envs/bonn/lib/python3.9/site-packages (from torch->-r requirements.txt (line 8)) (1.12)\n",
      "Requirement already satisfied: networkx in /home/hoang/anaconda3/envs/bonn/lib/python3.9/site-packages (from torch->-r requirements.txt (line 8)) (3.1)\n",
      "Requirement already satisfied: jinja2 in /home/hoang/anaconda3/envs/bonn/lib/python3.9/site-packages (from torch->-r requirements.txt (line 8)) (3.1.3)\n",
      "Requirement already satisfied: fsspec in /home/hoang/anaconda3/envs/bonn/lib/python3.9/site-packages (from torch->-r requirements.txt (line 8)) (2023.10.0)\n",
      "Requirement already satisfied: six>=1.4.0 in /home/hoang/anaconda3/envs/bonn/lib/python3.9/site-packages (from docker-pycreds>=0.4.0->wandb>=0.13.5->-r requirements.txt (line 5)) (1.16.0)\n",
      "Requirement already satisfied: gitdb<5,>=4.0.1 in /home/hoang/anaconda3/envs/bonn/lib/python3.9/site-packages (from gitpython!=3.1.29,>=1.0.0->wandb>=0.13.5->-r requirements.txt (line 5)) (4.0.7)\n",
      "Requirement already satisfied: zipp>=3.1.0 in /home/hoang/anaconda3/envs/bonn/lib/python3.9/site-packages (from importlib-resources>=3.2.0->matplotlib>=3.6.2->-r requirements.txt (line 1)) (3.17.0)\n",
      "Requirement already satisfied: annotated-types>=0.4.0 in /home/hoang/anaconda3/envs/bonn/lib/python3.9/site-packages (from pydantic<3,>=2.6->wandb>=0.13.5->-r requirements.txt (line 5)) (0.7.0)\n",
      "Requirement already satisfied: pydantic-core==2.18.4 in /home/hoang/anaconda3/envs/bonn/lib/python3.9/site-packages (from pydantic<3,>=2.6->wandb>=0.13.5->-r requirements.txt (line 5)) (2.18.4)\n",
      "Requirement already satisfied: charset-normalizer<4,>=2 in /home/hoang/anaconda3/envs/bonn/lib/python3.9/site-packages (from requests<3,>=2.0.0->wandb>=0.13.5->-r requirements.txt (line 5)) (2.0.4)\n",
      "Requirement already satisfied: idna<4,>=2.5 in /home/hoang/anaconda3/envs/bonn/lib/python3.9/site-packages (from requests<3,>=2.0.0->wandb>=0.13.5->-r requirements.txt (line 5)) (3.4)\n",
      "Requirement already satisfied: urllib3<3,>=1.21.1 in /home/hoang/anaconda3/envs/bonn/lib/python3.9/site-packages (from requests<3,>=2.0.0->wandb>=0.13.5->-r requirements.txt (line 5)) (1.26.18)\n",
      "Requirement already satisfied: certifi>=2017.4.17 in /home/hoang/anaconda3/envs/bonn/lib/python3.9/site-packages (from requests<3,>=2.0.0->wandb>=0.13.5->-r requirements.txt (line 5)) (2024.8.30)\n",
      "Requirement already satisfied: MarkupSafe>=2.0 in /home/hoang/anaconda3/envs/bonn/lib/python3.9/site-packages (from jinja2->torch->-r requirements.txt (line 8)) (2.1.3)\n",
      "Requirement already satisfied: mpmath>=0.19 in /home/hoang/anaconda3/envs/bonn/lib/python3.9/site-packages (from sympy->torch->-r requirements.txt (line 8)) (1.3.0)\n",
      "Requirement already satisfied: smmap<5,>=3.0.1 in /home/hoang/anaconda3/envs/bonn/lib/python3.9/site-packages (from gitdb<5,>=4.0.1->gitpython!=3.1.29,>=1.0.0->wandb>=0.13.5->-r requirements.txt (line 5)) (4.0.0)\n",
      "Downloading wandb-0.19.0-py3-none-manylinux_2_17_x86_64.manylinux2014_x86_64.whl (20.1 MB)\n",
      "\u001b[2K   \u001b[38;2;114;156;31m━━━━━━━━━━━━━━━━━━━━━━━━━━━━━━━━━━━━━━━━\u001b[0m \u001b[32m20.1/20.1 MB\u001b[0m \u001b[31m11.5 MB/s\u001b[0m eta \u001b[36m0:00:00\u001b[0m31m11.8 MB/s\u001b[0m eta \u001b[36m0:00:01\u001b[0m\n",
      "\u001b[?25hDownloading docker_pycreds-0.4.0-py2.py3-none-any.whl (9.0 kB)\n",
      "Downloading sentry_sdk-2.19.1-py2.py3-none-any.whl (322 kB)\n",
      "Downloading eval_type_backport-0.2.0-py3-none-any.whl (5.9 kB)\n",
      "Downloading setproctitle-1.3.4-cp39-cp39-manylinux_2_5_x86_64.manylinux1_x86_64.manylinux_2_17_x86_64.manylinux2014_x86_64.whl (30 kB)\n",
      "Installing collected packages: setproctitle, sentry-sdk, eval-type-backport, docker-pycreds, wandb\n",
      "Successfully installed docker-pycreds-0.4.0 eval-type-backport-0.2.0 sentry-sdk-2.19.1 setproctitle-1.3.4 wandb-0.19.0\n"
     ]
    }
   ],
   "source": [
    "!pip3 install -r requirements.txt"
   ]
  },
  {
   "cell_type": "markdown",
   "metadata": {},
   "source": [
    "## MSNet\n",
    "The following cells perform the training of MSNet model on WaterMAI's train set by 3 different modalities **coir**, **condwi** and **cognirndwi**\n",
    "\n",
    "**(NOTE)** Please modify the text `YOUR_PATH_TO` in `--input_folder`, `--weights` and `val_txt` to the path in your computers"
   ]
  },
  {
   "cell_type": "code",
   "execution_count": null,
   "metadata": {},
   "outputs": [],
   "source": [
    "# coir\n",
    "! python3 train.py --model msnet --type 'coir' --num_channels 4 \\\n",
    "    --input_folder \"YOUR_PATH_TO/WaterMAI_dataset\" \\\n",
    "    --dir_checkpoint \"./checkpoints_msnet_coir\" \\\n",
    "    --epochs 100 --batch-size 4 --learning-rate 0.0001 \\\n",
    "    --n_classes 5 --checkpoint-save 50 \\\n",
    "    --train_txt 'YOUR_PATH_TO/WaterMAI_dataset/images/co/trainFold0_coir.txt' \\\n",
    "    --val_txt 'YOUR_PATH_TO/WaterMAI_dataset/images/co/valFold0_coir.txt' "
   ]
  },
  {
   "cell_type": "code",
   "execution_count": null,
   "metadata": {},
   "outputs": [],
   "source": [
    "# condwi\n",
    "! python3 train.py --model msnet --type 'condwi' --num_channels 4 \\\n",
    "    --input_folder \"YOUR_PATH_TO/WaterMAI_dataset\" \\\n",
    "    --dir_checkpoint \"./checkpoints_msnet_condwi\" \\\n",
    "    --epochs 100 --batch-size 4 --learning-rate 0.0001 \\\n",
    "    --n_classes 5 --checkpoint-save 50 \\\n",
    "    --train_txt 'YOUR_PATH_TO/WaterMAI_dataset/images/co/trainFold0_condwi.txt' \\\n",
    "    --val_txt 'YOUR_PATH_TO/WaterMAI_dataset/images/co/valFold0_condwi.txt'"
   ]
  },
  {
   "cell_type": "code",
   "execution_count": null,
   "metadata": {},
   "outputs": [],
   "source": [
    "# cognirndwi\n",
    "! python3 train.py --model msnet --type 'cognirndwi' --num_channels 6 \\\n",
    "    --input_folder \"YOUR_PATH_TO/WaterMAI_dataset\" \\\n",
    "    --dir_checkpoint \"./checkpoints_msnet_cognirndwi\" \\\n",
    "    --epochs 100 --batch-size 4 --learning-rate 0.0001 \\\n",
    "    --n_classes 5 --checkpoint-save 50 \\\n",
    "    --train_txt 'YOUR_PATH_TO/WaterMAI_dataset/images/co/trainFold0_cognirndwi.txt' \\\n",
    "    --val_txt 'YOUR_PATH_TO/WaterMAI_dataset/images/co/valFold0_cognirndwi.txt' "
   ]
  },
  {
   "cell_type": "markdown",
   "metadata": {},
   "source": [
    "## RTFNet\n",
    "The following cells perform the training of RTFNet model on WaterMAI's train set by 3 different modalities **coir** and **condwi**\n",
    "\n",
    "**(NOTE)** Please modify the text `YOUR_PATH_TO` in `--input_folder`, `--weights` and `val_txt` to the path in your computers"
   ]
  },
  {
   "cell_type": "code",
   "execution_count": null,
   "metadata": {},
   "outputs": [],
   "source": [
    "# coir\n",
    "! python3 train.py --model rtfnet --type 'coir' --num_channels 4 \\\n",
    "    --input_folder \"YOUR_PATH_TO/WaterMAI_dataset\" \\\n",
    "    --dir_checkpoint \"./checkpoints_rtfnet_coir\" \\\n",
    "    --epochs 100 --batch-size 4 --learning-rate 0.0001 \\\n",
    "    --n_classes 5 --checkpoint-save 50 \\\n",
    "    --train_txt 'YOUR_PATH_TO/WaterMAI_dataset/images/co/trainFold0_coir.txt' \\\n",
    "    --val_txt 'YOUR_PATH_TO/WaterMAI_dataset/images/co/valFold0_coir.txt' "
   ]
  },
  {
   "cell_type": "code",
   "execution_count": null,
   "metadata": {},
   "outputs": [],
   "source": [
    "# condwi\n",
    "! python3 train.py --model rtfnet --type 'condwi' --num_channels 4 \\\n",
    "    --input_folder \"YOUR_PATH_TO/WaterMAI_dataset\" \\\n",
    "    --dir_checkpoint \"./checkpoints_rtfnet_coir\" \\\n",
    "    --epochs 100 --batch-size 4 --learning-rate 0.0001 \\\n",
    "    --n_classes 5 --checkpoint-save 50 \\\n",
    "    --train_txt 'YOUR_PATH_TO/WaterMAI_dataset/images/co/trainFold0_condwi.txt' \\\n",
    "    --val_txt 'YOUR_PATH_TO/WaterMAI_dataset/images/co/valFold0_condwi.txt'"
   ]
  },
  {
   "cell_type": "markdown",
   "metadata": {},
   "source": [
    "## UNet\n",
    "The following cells perform the training of UNet model on WaterMAI's train set by 3 different modalities **coir**, **condwi** and **cognirndwi**\n",
    "\n",
    "**(NOTE)** Please modify the text `YOUR_PATH_TO` in `--input_folder`, `--weights` and `val_txt` to the path in your computers"
   ]
  },
  {
   "cell_type": "code",
   "execution_count": null,
   "metadata": {},
   "outputs": [],
   "source": [
    "# co\n",
    "! python3 train.py --model unet --type 'co' --num_channels 3 \\\n",
    "    --input_folder \"YOUR_PATH_TO/WaterMAI_dataset\" \\\n",
    "    --dir_checkpoint \"./checkpoints_unet_co\" \\\n",
    "    --epochs 100 --batch-size 4 --learning-rate 0.0001 \\\n",
    "    --n_classes 5 --checkpoint-save 50 \\\n",
    "    --train_txt 'YOUR_PATH_TO/WaterMAI_dataset/images/co/train_co.txt' \\\n",
    "    --val_txt 'YOUR_PATH_TO/WaterMAI_dataset/images/co/val_co.txt'"
   ]
  },
  {
   "cell_type": "code",
   "execution_count": null,
   "metadata": {},
   "outputs": [],
   "source": [
    "# cognirndwi\n",
    "! python3 train.py --model unet --type 'cognirndwi' --num_channels 6 \\\n",
    "    --input_folder \"YOUR_PATH_TO/WaterMAI_dataset\" \\\n",
    "    --dir_checkpoint \"./checkpoints_unet_cognirndwi\" \\\n",
    "    --epochs 100 --batch-size 4 --learning-rate 0.0001 \\\n",
    "    --n_classes 5 --checkpoint-save 50 \\\n",
    "    --train_txt 'YOUR_PATH_TO/WaterMAI_dataset/images/cognirndwi/train_cognirndwi.txt' \\\n",
    "    --val_txt 'YOUR_PATH_TO/WaterMAI_dataset/images/cognirndwi/val_cognirndwi.txt'"
   ]
  },
  {
   "cell_type": "code",
   "execution_count": null,
   "metadata": {},
   "outputs": [],
   "source": [
    "# coir\n",
    "! python3 train.py --model unet --type 'coir' --num_channels 4 \\\n",
    "    --input_folder \"YOUR_PATH_TO/WaterMAI_dataset\" \\\n",
    "    --dir_checkpoint \"./checkpoints_unet_coir\" \\\n",
    "    --epochs 100 --batch-size 4 --learning-rate 0.0001 \\\n",
    "    --n_classes 5 --checkpoint-save 50 \\\n",
    "    --train_txt 'YOUR_PATH_TO/WaterMAI_dataset/images/coir/train_coir.txt' \\\n",
    "    --val_txt 'YOUR_PATH_TO/WaterMAI_dataset/images/coir/val_coir.txt'"
   ]
  },
  {
   "cell_type": "code",
   "execution_count": null,
   "metadata": {},
   "outputs": [],
   "source": [
    "# condwi\n",
    "! python3 train.py --model unet --type 'condwi' --num_channels 4 \\\n",
    "    --input_folder 'YOUR_PATH_TO/WaterMAI_dataset/train' \\\n",
    "    --dir_checkpoint \"./checkpoints_unet_condwi\" \\\n",
    "    --epochs 100 --batch-size 4 --learning-rate 0.0001 \\\n",
    "    --n_classes 5 --checkpoint-save 50 \\\n",
    "    --train_txt 'YOUR_PATH_TO/WaterMAI_dataset/images/condwi/train_condwi.txt' \\\n",
    "    --val_txt 'YOUR_PATH_TO/WaterMAI_dataset/images/condwi/val_condwi.txt' "
   ]
  },
  {
   "cell_type": "code",
   "execution_count": null,
   "metadata": {},
   "outputs": [],
   "source": [
    "# gnirndwi\n",
    "! python3 train.py --model unet --type 'gnirndwi' --num_channels 3 \\\n",
    "    --input_folder 'YOUR_PATH_TO/WaterMAI_dataset/train' \\\n",
    "    --dir_checkpoint \"./checkpoints_unet_gnirndwi\" \\\n",
    "    --epochs 100 --batch-size 4 --learning-rate 0.0001 \\\n",
    "    --n_classes 5 --checkpoint-save 50 \\\n",
    "    --train_txt 'YOUR_PATH_TO/WaterMAI_dataset/images/gnirndwi/train_gnirndwi.txt' \\\n",
    "    --val_txt 'YOUR_PATH_TO/WaterMAI_dataset/images/gnirndwi/val_gnirndwi.txt'"
   ]
  },
  {
   "cell_type": "code",
   "execution_count": null,
   "metadata": {},
   "outputs": [],
   "source": [
    "# rndwib\n",
    "! python3 train.py --model unet --type 'rndwib' --num_channels 3 \\\n",
    "    --input_folder 'YOUR_PATH_TO/WaterMAI_dataset/train' \\\n",
    "    --dir_checkpoint \"./checkpoints_rndwib\" \\\n",
    "    --epochs 100 --batch-size 4 --learning-rate 0.0001 \\\n",
    "    --n_classes 5 --checkpoint-save 50 \\\n",
    "    --train_txt 'YOUR_PATH_TO/WaterMAI_dataset/images/rndwib/train_rndwib.txt' \\\n",
    "    --val_txt 'YOUR_PATH_TO/WaterMAI_dataset/images/rndwib/val_rndwib.txt' "
   ]
  }
 ],
 "metadata": {
  "kernelspec": {
   "display_name": "bonn",
   "language": "python",
   "name": "python3"
  },
  "language_info": {
   "codemirror_mode": {
    "name": "ipython",
    "version": 3
   },
   "file_extension": ".py",
   "mimetype": "text/x-python",
   "name": "python",
   "nbconvert_exporter": "python",
   "pygments_lexer": "ipython3",
   "version": "3.9.19"
  }
 },
 "nbformat": 4,
 "nbformat_minor": 2
}
